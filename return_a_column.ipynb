{
  "nbformat": 4,
  "nbformat_minor": 0,
  "metadata": {
    "colab": {
      "provenance": [],
      "authorship_tag": "ABX9TyOVnAHJqd5py7cTBM1+EL1T",
      "include_colab_link": true
    },
    "kernelspec": {
      "name": "python3",
      "display_name": "Python 3"
    },
    "language_info": {
      "name": "python"
    }
  },
  "cells": [
    {
      "cell_type": "markdown",
      "metadata": {
        "id": "view-in-github",
        "colab_type": "text"
      },
      "source": [
        "<a href=\"https://colab.research.google.com/github/yash-sankle/test-repo-colab/blob/main/return_a_column.ipynb\" target=\"_parent\"><img src=\"https://colab.research.google.com/assets/colab-badge.svg\" alt=\"Open In Colab\"/></a>"
      ]
    },
    {
      "cell_type": "code",
      "source": [
        "import sqlite3\n",
        "\n",
        "\n",
        "conn = sqlite3.connect('northwind.db')\n",
        "cur = conn.cursor()\n",
        "\n",
        "cur.execute('''SELECT * FROM Category''')\n",
        "\n",
        "rows = cur.fetchall()\n",
        "for category_id, category_name, description in rows:\n",
        "    print(category_name)\n",
        "\n",
        "conn.close()"
      ],
      "metadata": {
        "id": "m_B0036zCmI3",
        "colab": {
          "base_uri": "https://localhost:8080/"
        },
        "outputId": "1090d660-369c-478a-afe3-07ca9e3152ff"
      },
      "execution_count": 13,
      "outputs": [
        {
          "output_type": "stream",
          "name": "stdout",
          "text": [
            "Beverages\n",
            "Condiments\n",
            "Confections\n",
            "Dairy Products\n",
            "Grains/Cereals\n",
            "Meat/Poultry\n",
            "Produce\n",
            "Seafood\n"
          ]
        }
      ]
    }
  ]
}