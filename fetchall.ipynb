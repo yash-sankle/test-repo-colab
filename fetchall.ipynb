{
  "nbformat": 4,
  "nbformat_minor": 0,
  "metadata": {
    "colab": {
      "provenance": [],
      "authorship_tag": "ABX9TyPg24QnnSKj1Fig0JGDYak5",
      "include_colab_link": true
    },
    "kernelspec": {
      "name": "python3",
      "display_name": "Python 3"
    },
    "language_info": {
      "name": "python"
    }
  },
  "cells": [
    {
      "cell_type": "markdown",
      "metadata": {
        "id": "view-in-github",
        "colab_type": "text"
      },
      "source": [
        "<a href=\"https://colab.research.google.com/github/yash-sankle/test-repo-colab/blob/main/fetchall.ipynb\" target=\"_parent\"><img src=\"https://colab.research.google.com/assets/colab-badge.svg\" alt=\"Open In Colab\"/></a>"
      ]
    },
    {
      "cell_type": "code",
      "source": [
        "import sqlite3"
      ],
      "metadata": {
        "id": "m_B0036zCmI3"
      },
      "execution_count": 1,
      "outputs": []
    },
    {
      "cell_type": "code",
      "source": [
        "conn = sqlite3.connect('northwind.db')\n",
        "cur = conn.cursor()\n",
        "\n",
        "cur.execute('''SELECT * FROM Category''')\n",
        "\n",
        "all_rows = cur.fetchall()\n",
        "for rows in all_rows:\n",
        "    print(rows)\n",
        "\n",
        "conn.close()\n"
      ],
      "metadata": {
        "colab": {
          "base_uri": "https://localhost:8080/"
        },
        "id": "i1nGCEpBC5zW",
        "outputId": "443bbb48-283b-47c1-8c16-e5b828262bc6"
      },
      "execution_count": 2,
      "outputs": [
        {
          "output_type": "stream",
          "name": "stdout",
          "text": [
            "(1, 'Beverages', 'Soft drinks, coffees, teas, beers, and ales')\n",
            "(2, 'Condiments', 'Sweet and savory sauces, relishes, spreads, and seasonings')\n",
            "(3, 'Confections', 'Desserts, candies, and sweet breads')\n",
            "(4, 'Dairy Products', 'Cheeses')\n",
            "(5, 'Grains/Cereals', 'Breads, crackers, pasta, and cereal')\n",
            "(6, 'Meat/Poultry', 'Prepared meats')\n",
            "(7, 'Produce', 'Dried fruit and bean curd')\n",
            "(8, 'Seafood', 'Seaweed and fish')\n"
          ]
        }
      ]
    }
  ]
}