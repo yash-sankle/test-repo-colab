{
  "nbformat": 4,
  "nbformat_minor": 0,
  "metadata": {
    "colab": {
      "provenance": [],
      "authorship_tag": "ABX9TyNozZU40NurM9W6bZ2X0iVF",
      "include_colab_link": true
    },
    "kernelspec": {
      "name": "python3",
      "display_name": "Python 3"
    },
    "language_info": {
      "name": "python"
    }
  },
  "cells": [
    {
      "cell_type": "markdown",
      "metadata": {
        "id": "view-in-github",
        "colab_type": "text"
      },
      "source": [
        "<a href=\"https://colab.research.google.com/github/yash-sankle/test-repo-colab/blob/main/fetchmany.ipynb\" target=\"_parent\"><img src=\"https://colab.research.google.com/assets/colab-badge.svg\" alt=\"Open In Colab\"/></a>"
      ]
    },
    {
      "cell_type": "code",
      "source": [
        "import sqlite3\n",
        "\n",
        "\n",
        "conn = sqlite3.connect('northwind.db')\n",
        "cur = conn.cursor()\n",
        "\n",
        "cur.execute('''SELECT firstname, lastname, title,city FROM employee''')\n",
        "num_of_rows = 3;\n",
        "\n",
        "rows = cur.fetchmany(num_of_rows)\n",
        "for row in rows:\n",
        "  print(row)\n",
        "\n",
        "conn.close()"
      ],
      "metadata": {
        "id": "m_B0036zCmI3",
        "colab": {
          "base_uri": "https://localhost:8080/"
        },
        "outputId": "2f963eaf-2ffc-492c-914b-31d480b3dfdd"
      },
      "execution_count": 22,
      "outputs": [
        {
          "output_type": "stream",
          "name": "stdout",
          "text": [
            "('Nancy', 'Davolio', 'Sales Representative', 'Seattle')\n",
            "('Andrew', 'Fuller', 'Vice President, Sales', 'Tacoma')\n",
            "('Janet', 'Leverling', 'Sales Representative', 'Kirkland')\n"
          ]
        }
      ]
    }
  ]
}