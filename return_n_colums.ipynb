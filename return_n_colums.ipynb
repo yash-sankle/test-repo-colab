{
  "nbformat": 4,
  "nbformat_minor": 0,
  "metadata": {
    "colab": {
      "provenance": [],
      "authorship_tag": "ABX9TyP9sz1t/dRaLC3YzyVqTluX",
      "include_colab_link": true
    },
    "kernelspec": {
      "name": "python3",
      "display_name": "Python 3"
    },
    "language_info": {
      "name": "python"
    }
  },
  "cells": [
    {
      "cell_type": "markdown",
      "metadata": {
        "id": "view-in-github",
        "colab_type": "text"
      },
      "source": [
        "<a href=\"https://colab.research.google.com/github/yash-sankle/test-repo-colab/blob/main/return_n_colums.ipynb\" target=\"_parent\"><img src=\"https://colab.research.google.com/assets/colab-badge.svg\" alt=\"Open In Colab\"/></a>"
      ]
    },
    {
      "cell_type": "code",
      "source": [
        "import sqlite3\n",
        "\n",
        "\n",
        "conn = sqlite3.connect('northwind.db')\n",
        "cur = conn.cursor()\n",
        "\n",
        "cur.execute('''SELECT firstname, lastname, title,city FROM employee''')\n",
        "\n",
        "rows = cur.fetchall()\n",
        "for row in rows:\n",
        "  print(row)\n",
        "\n",
        "conn.close()"
      ],
      "metadata": {
        "id": "m_B0036zCmI3",
        "colab": {
          "base_uri": "https://localhost:8080/"
        },
        "outputId": "f6c66540-1d27-45f6-976b-51c129cc8443"
      },
      "execution_count": 21,
      "outputs": [
        {
          "output_type": "stream",
          "name": "stdout",
          "text": [
            "('Nancy', 'Davolio', 'Sales Representative', 'Seattle')\n",
            "('Andrew', 'Fuller', 'Vice President, Sales', 'Tacoma')\n",
            "('Janet', 'Leverling', 'Sales Representative', 'Kirkland')\n",
            "('Margaret', 'Peacock', 'Sales Representative', 'Redmond')\n",
            "('Steven', 'Buchanan', 'Sales Manager', 'London')\n",
            "('Michael', 'Suyama', 'Sales Representative', 'London')\n",
            "('Robert', 'King', 'Sales Representative', 'London')\n",
            "('Laura', 'Callahan', 'Inside Sales Coordinator', 'Seattle')\n",
            "('Anne', 'Dodsworth', 'Sales Representative', 'London')\n"
          ]
        }
      ]
    }
  ]
}